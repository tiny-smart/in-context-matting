{
 "cells": [
  {
   "cell_type": "code",
   "execution_count": 2,
   "metadata": {},
   "outputs": [
    {
     "name": "stdout",
     "output_type": "stream",
     "text": [
      "odict_keys(['feature_extractor.alpha_cond', 'feature_extractor.alpha_cond_time_embed', 'feature_extractor.clip_project.positional_embedding', 'feature_extractor.clip_project.linear.weight', 'feature_extractor.clip_project.linear.bias', 'feature_extractor.time_embed_project.positional_embedding', 'feature_extractor.time_embed_project.linear.weight', 'feature_extractor.time_embed_project.linear.bias', 'diffusion_decoder.convstream.convs.0.conv.weight', 'diffusion_decoder.convstream.convs.0.bn.weight', 'diffusion_decoder.convstream.convs.0.bn.bias', 'diffusion_decoder.convstream.convs.0.bn.running_mean', 'diffusion_decoder.convstream.convs.0.bn.running_var', 'diffusion_decoder.convstream.convs.0.bn.num_batches_tracked', 'diffusion_decoder.convstream.convs.1.conv.weight', 'diffusion_decoder.convstream.convs.1.bn.weight', 'diffusion_decoder.convstream.convs.1.bn.bias', 'diffusion_decoder.convstream.convs.1.bn.running_mean', 'diffusion_decoder.convstream.convs.1.bn.running_var', 'diffusion_decoder.convstream.convs.1.bn.num_batches_tracked', 'diffusion_decoder.convstream.convs.2.conv.weight', 'diffusion_decoder.convstream.convs.2.bn.weight', 'diffusion_decoder.convstream.convs.2.bn.bias', 'diffusion_decoder.convstream.convs.2.bn.running_mean', 'diffusion_decoder.convstream.convs.2.bn.running_var', 'diffusion_decoder.convstream.convs.2.bn.num_batches_tracked', 'diffusion_decoder.fusion_blks.0.conv.conv.weight', 'diffusion_decoder.fusion_blks.0.conv.bn.weight', 'diffusion_decoder.fusion_blks.0.conv.bn.bias', 'diffusion_decoder.fusion_blks.0.conv.bn.running_mean', 'diffusion_decoder.fusion_blks.0.conv.bn.running_var', 'diffusion_decoder.fusion_blks.0.conv.bn.num_batches_tracked', 'diffusion_decoder.fusion_blks.1.conv.conv.weight', 'diffusion_decoder.fusion_blks.1.conv.bn.weight', 'diffusion_decoder.fusion_blks.1.conv.bn.bias', 'diffusion_decoder.fusion_blks.1.conv.bn.running_mean', 'diffusion_decoder.fusion_blks.1.conv.bn.running_var', 'diffusion_decoder.fusion_blks.1.conv.bn.num_batches_tracked', 'diffusion_decoder.fusion_blks.2.conv.conv.weight', 'diffusion_decoder.fusion_blks.2.conv.bn.weight', 'diffusion_decoder.fusion_blks.2.conv.bn.bias', 'diffusion_decoder.fusion_blks.2.conv.bn.running_mean', 'diffusion_decoder.fusion_blks.2.conv.bn.running_var', 'diffusion_decoder.fusion_blks.2.conv.bn.num_batches_tracked', 'diffusion_decoder.fusion_blks.3.conv.conv.weight', 'diffusion_decoder.fusion_blks.3.conv.bn.weight', 'diffusion_decoder.fusion_blks.3.conv.bn.bias', 'diffusion_decoder.fusion_blks.3.conv.bn.running_mean', 'diffusion_decoder.fusion_blks.3.conv.bn.running_var', 'diffusion_decoder.fusion_blks.3.conv.bn.num_batches_tracked', 'diffusion_decoder.matting_head.matting_convs.0.weight', 'diffusion_decoder.matting_head.matting_convs.0.bias', 'diffusion_decoder.matting_head.matting_convs.1.weight', 'diffusion_decoder.matting_head.matting_convs.1.bias', 'diffusion_decoder.matting_head.matting_convs.1.running_mean', 'diffusion_decoder.matting_head.matting_convs.1.running_var', 'diffusion_decoder.matting_head.matting_convs.1.num_batches_tracked', 'diffusion_decoder.matting_head.matting_convs.3.weight', 'diffusion_decoder.matting_head.matting_convs.3.bias'])\n"
     ]
    }
   ],
   "source": [
    "import torch\n",
    "ckpt_path = 'logs/2023-07-20_16-06-53-reproduce_diffusion_matte/checkpoints/epoch=00-mse_all=0.01097-mse_unknown=0.02678.ckpt'\n",
    "ckpt = torch.load(ckpt_path, map_location=torch.device('cpu'))\n",
    "print(ckpt['state_dict'].keys())"
   ]
  }
 ],
 "metadata": {
  "kernelspec": {
   "display_name": "icm",
   "language": "python",
   "name": "python3"
  },
  "language_info": {
   "codemirror_mode": {
    "name": "ipython",
    "version": 3
   },
   "file_extension": ".py",
   "mimetype": "text/x-python",
   "name": "python",
   "nbconvert_exporter": "python",
   "pygments_lexer": "ipython3",
   "version": "3.9.17"
  },
  "orig_nbformat": 4
 },
 "nbformat": 4,
 "nbformat_minor": 2
}
