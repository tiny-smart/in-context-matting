{
 "cells": [
  {
   "cell_type": "markdown",
   "metadata": {},
   "source": [
    "# image_name  dataset_name  class  subclass HalfOrFull TransparentOrOpaque (Salient Opaque, Salient Transparent/Meticulous, Non-salient)"
   ]
  },
  {
   "cell_type": "markdown",
   "metadata": {},
   "source": [
    "AM2K"
   ]
  },
  {
   "cell_type": "code",
   "execution_count": 1,
   "metadata": {},
   "outputs": [],
   "source": [
    "from icm.data.image_file import get_dir_ext\n",
    "dataset = {'AIM', 'PPM', 'AM2k_train','AM2k_val', 'RWP636','P3M_val_np','P3M_train','P3M_val_p'}\n",
    "#            o_      _o or _5k    m_           m_           _input.jpg   p_         p_         p_ \n",
    "\n",
    "def check_full_or_half(img):\n",
    "    # check if the mask connect with the edge\n",
    "    h, w = img.shape\n",
    "    sum_ = img[0, :].sum() + img[h-1, :].sum() + img[:, 0].sum() + img[:, w-1].sum()\n",
    "    if sum_ < (h+w)*2/200:\n",
    "        return 'full'\n",
    "    else:\n",
    "        return 'half'"
   ]
  },
  {
   "cell_type": "code",
   "execution_count": 2,
   "metadata": {},
   "outputs": [],
   "source": [
    "import os, json\n",
    "\n",
    "import cv2\n",
    "am_json_dir = '/data/yezixuan/Combined_Dataset/AM-2k/am2k_split_category.json'\n",
    "# read json in dict\n",
    "with open(am_json_dir, 'r') as f:\n",
    "    am_json = json.load(f)\n",
    "# get the list of image names\n",
    "dict_save = {}\n",
    "for img_name in am_json:\n",
    "    img_dict = {}\n",
    "    assert am_json[img_name]['split'] in ['train', 'validation']\n",
    "    dataset_name = 'AM2k_train' if am_json[img_name]['split']=='train' else 'AM2k_val'\n",
    "    img_dict['dataset_name'] = dataset_name\n",
    "    img_dict['class'] = 'animal'\n",
    "    img_dict['sub_class'] = am_json[img_name]['category']\n",
    "    image_dir, label_dir, trimap_dir, merged_ext, alpha_ext, trimap_ext = get_dir_ext(dataset_name)\n",
    "    # read label\n",
    "    label_path = os.path.join(label_dir, img_name+alpha_ext)\n",
    "    alpha = cv2.imread(label_path, cv2.IMREAD_GRAYSCALE)\n",
    "    HalfOrFull = check_full_or_half(alpha)\n",
    "    img_dict['HalfOrFull'] = HalfOrFull\n",
    "    img_dict['TransparentOrOpaque'] = None\n",
    "    \n",
    "    dict_save[img_name] = img_dict\n",
    "    \n"
   ]
  },
  {
   "cell_type": "code",
   "execution_count": 3,
   "metadata": {},
   "outputs": [],
   "source": [
    "# save dict_save\n",
    "with open('AM2k.json', 'w') as f:\n",
    "    json.dump(dict_save, f)"
   ]
  },
  {
   "cell_type": "markdown",
   "metadata": {},
   "source": [
    "PPM"
   ]
  },
  {
   "cell_type": "code",
   "execution_count": 10,
   "metadata": {},
   "outputs": [],
   "source": [
    "image_dir, label_dir, trimap_dir, merged_ext, alpha_ext, trimap_ext = get_dir_ext('PPM')\n",
    "# list label\n",
    "label_list = os.listdir(label_dir)\n",
    "dict_save = {}\n",
    "for img_name in label_list:\n",
    "    img_name = img_name.split('.')[0]\n",
    "    img_dict = {}\n",
    "    \n",
    "    \n",
    "    img_dict['dataset_name'] = 'PPM'\n",
    "    img_dict['class'] = 'human'\n",
    "    img_dict['sub_class'] = None\n",
    "    image_dir, label_dir, trimap_dir, merged_ext, alpha_ext, trimap_ext = get_dir_ext('PPM')\n",
    "    # read label\n",
    "    label_path = os.path.join(label_dir, img_name+alpha_ext)\n",
    "    alpha = cv2.imread(label_path, cv2.IMREAD_GRAYSCALE)\n",
    "    HalfOrFull = check_full_or_half(alpha)\n",
    "    img_dict['HalfOrFull'] = HalfOrFull\n",
    "    img_dict['TransparentOrOpaque'] = None\n",
    "    \n",
    "    dict_save[img_name] = img_dict"
   ]
  },
  {
   "cell_type": "code",
   "execution_count": 11,
   "metadata": {},
   "outputs": [],
   "source": [
    "# save dict_save\n",
    "with open('PPM.json', 'w') as f:\n",
    "    json.dump(dict_save, f)"
   ]
  },
  {
   "cell_type": "markdown",
   "metadata": {},
   "source": [
    "RWP636"
   ]
  },
  {
   "cell_type": "code",
   "execution_count": 12,
   "metadata": {},
   "outputs": [],
   "source": [
    "image_dir, label_dir, trimap_dir, merged_ext, alpha_ext, trimap_ext = get_dir_ext('RWP636')\n",
    "# list label\n",
    "label_list = os.listdir(label_dir)\n",
    "dict_save = {}\n",
    "for img_name in label_list:\n",
    "    img_name = img_name.split('.')[0]\n",
    "    img_dict = {}\n",
    "    \n",
    "    \n",
    "    img_dict['dataset_name'] = 'RWP636'\n",
    "    img_dict['class'] = 'human'\n",
    "    img_dict['sub_class'] = None\n",
    "    image_dir, label_dir, trimap_dir, merged_ext, alpha_ext, trimap_ext = get_dir_ext('RWP636')\n",
    "    # read label\n",
    "    label_path = os.path.join(label_dir, img_name+alpha_ext)\n",
    "    alpha = cv2.imread(label_path, cv2.IMREAD_GRAYSCALE)\n",
    "    HalfOrFull = check_full_or_half(alpha)\n",
    "    img_dict['HalfOrFull'] = HalfOrFull\n",
    "    img_dict['TransparentOrOpaque'] = None\n",
    "    \n",
    "    dict_save[img_name] = img_dict"
   ]
  },
  {
   "cell_type": "code",
   "execution_count": 13,
   "metadata": {},
   "outputs": [],
   "source": [
    "# save dict_save\n",
    "with open('RWP636.json', 'w') as f:\n",
    "    json.dump(dict_save, f)"
   ]
  },
  {
   "cell_type": "markdown",
   "metadata": {},
   "source": [
    "P3M_val_np"
   ]
  },
  {
   "cell_type": "code",
   "execution_count": 14,
   "metadata": {},
   "outputs": [],
   "source": [
    "image_dir, label_dir, trimap_dir, merged_ext, alpha_ext, trimap_ext = get_dir_ext('P3M_val_np')\n",
    "# list label\n",
    "label_list = os.listdir(label_dir)\n",
    "dict_save = {}\n",
    "for img_name in label_list:\n",
    "    img_name = img_name.split('.')[0]\n",
    "    img_dict = {}\n",
    "    \n",
    "    \n",
    "    img_dict['dataset_name'] = 'P3M_val_np'\n",
    "    img_dict['class'] = 'human'\n",
    "    img_dict['sub_class'] = None\n",
    "    image_dir, label_dir, trimap_dir, merged_ext, alpha_ext, trimap_ext = get_dir_ext('P3M_val_np')\n",
    "    # read label\n",
    "    label_path = os.path.join(label_dir, img_name+alpha_ext)\n",
    "    alpha = cv2.imread(label_path, cv2.IMREAD_GRAYSCALE)\n",
    "    HalfOrFull = check_full_or_half(alpha)\n",
    "    img_dict['HalfOrFull'] = HalfOrFull\n",
    "    img_dict['TransparentOrOpaque'] = None\n",
    "    \n",
    "    dict_save[img_name] = img_dict"
   ]
  },
  {
   "cell_type": "code",
   "execution_count": 15,
   "metadata": {},
   "outputs": [],
   "source": [
    "# save dict_save\n",
    "with open('P3M_val_np.json', 'w') as f:\n",
    "    json.dump(dict_save, f)"
   ]
  },
  {
   "cell_type": "markdown",
   "metadata": {},
   "source": [
    "AIM"
   ]
  },
  {
   "cell_type": "code",
   "execution_count": 2,
   "metadata": {},
   "outputs": [],
   "source": [
    "\n",
    "am_json_dir = '/home/yezixuan/Combined_Dataset/AIM-500/aim_category_type.json'\n",
    "# read json in dict\n",
    "import json, os, cv2\n",
    "with open(am_json_dir, 'r') as f:\n",
    "    am_json = json.load(f)\n",
    "# get the list of image names\n",
    "dict_save = {}\n",
    "for img_name in am_json:\n",
    "    img_dict = {}\n",
    "    dataset_name = 'AIM'\n",
    "    img_dict['dataset_name'] = dataset_name\n",
    "    img_dict['class'] = am_json[img_name]['category']\n",
    "    img_dict['sub_class'] = None\n",
    "    image_dir, label_dir, trimap_dir, merged_ext, alpha_ext, trimap_ext = get_dir_ext(dataset_name)\n",
    "    # read label\n",
    "    label_path = os.path.join(label_dir, img_name+alpha_ext)\n",
    "    alpha = cv2.imread(label_path, cv2.IMREAD_GRAYSCALE)\n",
    "    HalfOrFull = check_full_or_half(alpha)\n",
    "    img_dict['HalfOrFull'] = HalfOrFull\n",
    "    img_dict['TransparentOrOpaque'] = am_json[img_name]['type']\n",
    "    \n",
    "    dict_save[img_name] = img_dict"
   ]
  },
  {
   "cell_type": "code",
   "execution_count": null,
   "metadata": {},
   "outputs": [],
   "source": [
    "# save dict_save\n",
    "with open('AIM.json', 'w') as f:\n",
    "    json.dump(dict_save, f)"
   ]
  }
 ],
 "metadata": {
  "kernelspec": {
   "display_name": "icm",
   "language": "python",
   "name": "python3"
  },
  "language_info": {
   "codemirror_mode": {
    "name": "ipython",
    "version": 3
   },
   "file_extension": ".py",
   "mimetype": "text/x-python",
   "name": "python",
   "nbconvert_exporter": "python",
   "pygments_lexer": "ipython3",
   "version": "3.9.17"
  },
  "orig_nbformat": 4
 },
 "nbformat": 4,
 "nbformat_minor": 2
}
